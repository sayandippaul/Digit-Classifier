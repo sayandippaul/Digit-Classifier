{
 "cells": [
  {
   "cell_type": "code",
   "execution_count": 114,
   "id": "0eddfddb",
   "metadata": {},
   "outputs": [],
   "source": [
    "import numpy as np \n",
    "import pandas as pd\n",
    "import matplotlib.pyplot as plt"
   ]
  },
  {
   "cell_type": "code",
   "execution_count": 115,
   "id": "05ee6fef",
   "metadata": {},
   "outputs": [
    {
     "name": "stdout",
     "output_type": "stream",
     "text": [
      "       label  pixel0  pixel1  pixel2  pixel3  pixel4  pixel5  pixel6  pixel7  \\\n",
      "35524      0       0       0       0       0       0       0       0       0   \n",
      "\n",
      "       pixel8  ...  pixel774  pixel775  pixel776  pixel777  pixel778  \\\n",
      "35524       0  ...         0         0         0         0         0   \n",
      "\n",
      "       pixel779  pixel780  pixel781  pixel782  pixel783  \n",
      "35524         0         0         0         0         0  \n",
      "\n",
      "[1 rows x 785 columns]\n"
     ]
    }
   ],
   "source": [
    "df=pd.read_csv('train.csv')\n",
    "print(df.sample())\n",
    "# df.shape()"
   ]
  },
  {
   "cell_type": "code",
   "execution_count": null,
   "id": "7d22787e",
   "metadata": {},
   "outputs": [],
   "source": [
    "# normalise the data\n",
    "\n",
    "X=df.drop(['label'],axis=1)\n",
    "y=df['label']"
   ]
  },
  {
   "cell_type": "code",
   "execution_count": 117,
   "id": "5019e8d1",
   "metadata": {},
   "outputs": [
    {
     "data": {
      "image/png": "[encoded data removed]",
      "text/plain": [
       "<Figure size 800x400 with 10 Axes>"
      ]
     },
     "metadata": {},
     "output_type": "display_data"
    }
   ],
   "source": [
    "images = X.values.reshape(-1, 28, 28)\n",
    "\n",
    "# 4️⃣ Show a few sample digits\n",
    "plt.figure(figsize=(8, 4))\n",
    "for i in range(10):\n",
    "    plt.subplot(2, 5, i + 1)\n",
    "    plt.imshow(images[i], cmap='gray')   # grayscale\n",
    "    plt.title(f\"Label: {y[i]}\")\n",
    "    plt.axis('off')\n",
    "# plt.tight_layout()\n",
    "plt.show()\n",
    "\n",
    "\n"
   ]
  },
  {
   "cell_type": "code",
   "execution_count": 118,
   "id": "4ab2a150",
   "metadata": {},
   "outputs": [],
   "source": [
    "from sklearn.model_selection import train_test_split\n",
    "from sklearn.preprocessing import StandardScaler, MinMaxScaler"
   ]
  },
  {
   "cell_type": "code",
   "execution_count": 119,
   "id": "03b7a99d",
   "metadata": {},
   "outputs": [],
   "source": [
    "scaler = MinMaxScaler()     # scales each pixel to [0, 1]\n",
    "X_scaled = scaler.fit_transform(X)\n",
    "# X_train, X_test, y_train, y_test = train_test_split(X_scaled, y, test_size=0.2, random_state=42)"
   ]
  },
  {
   "cell_type": "code",
   "execution_count": 120,
   "id": "d44b833c",
   "metadata": {},
   "outputs": [
    {
     "name": "stdout",
     "output_type": "stream",
     "text": [
      "Before scaling: pixel0      0\n",
      "pixel1      0\n",
      "pixel2      0\n",
      "pixel3      0\n",
      "pixel4      0\n",
      "           ..\n",
      "pixel779    0\n",
      "pixel780    0\n",
      "pixel781    0\n",
      "pixel782    0\n",
      "pixel783    0\n",
      "Length: 784, dtype: int64 pixel0       0\n",
      "pixel1       0\n",
      "pixel2       0\n",
      "pixel3       0\n",
      "pixel4       0\n",
      "            ..\n",
      "pixel779    62\n",
      "pixel780     0\n",
      "pixel781     0\n",
      "pixel782     0\n",
      "pixel783     0\n",
      "Length: 784, dtype: int64\n",
      "After scaling: 0.0 1.0\n",
      "Mean: 0.1310180729037736 Std: 0.3085439441873858\n"
     ]
    }
   ],
   "source": [
    "print(\"Before scaling:\", X.min(), X.max())\n",
    "print(\"After scaling:\", X_scaled.min(), X_scaled.max())\n",
    "print(\"Mean:\", X_scaled.mean(), \"Std:\", X_scaled.std())\n"
   ]
  },
  {
   "cell_type": "code",
   "execution_count": null,
   "id": "5f5c6cf8",
   "metadata": {},
   "outputs": [
    {
     "name": "stdout",
     "output_type": "stream",
     "text": [
      "Original shape: (42000, 784)\n",
      "After PCA shape: (42000, 150)\n",
      "0.9485559159989418\n"
     ]
    }
   ],
   "source": [
    "from sklearn.decomposition import PCA\n",
    "\n",
    "# Apply PCA\n",
    "pca = PCA(n_components=150)   # keep top 100 features (can tune later)\n",
    "X_pca = pca.fit_transform(X_scaled)\n",
    "\n",
    "print(\"Original shape:\", X_scaled.shape)\n",
    "print(\"After PCA shape:\", X_pca.shape)\n",
    "print(pca.explained_variance_ratio_.sum())  # total variance explained"
   ]
  },
  {
   "cell_type": "code",
   "execution_count": null,
   "id": "49660008",
   "metadata": {},
   "outputs": [
    {
     "name": "stdout",
     "output_type": "stream",
     "text": [
      "Total variance retained: 94.86%\n"
     ]
    }
   ],
   "source": [
    "explained_variance = np.sum(pca.explained_variance_ratio_)\n",
    "print(f\"Total variance retained: {explained_variance*100:.2f}%\")\n",
    "\n"
   ]
  },
  {
   "cell_type": "code",
   "execution_count": null,
   "id": "e87b9e73",
   "metadata": {},
   "outputs": [
    {
     "data": {
      "text/plain": [
       "((33600, 150), (8400, 150))"
      ]
     },
     "execution_count": 123,
     "metadata": {},
     "output_type": "execute_result"
    }
   ],
   "source": [
    "# X_pca.shape\n",
    "X_train,X_test,y_train,y_test=train_test_split(X_pca,y,test_size=0.2,random_state=42)\n",
    "X_train.shape, X_test.shape\n"
   ]
  },
  {
   "cell_type": "code",
   "execution_count": null,
   "id": "57103e5a",
   "metadata": {},
   "outputs": [
    {
     "name": "stdout",
     "output_type": "stream",
     "text": [
      "Accuracy: 91.79%\n",
      "Classification Report:\n",
      "              precision    recall  f1-score   support\n",
      "\n",
      "           0       0.96      0.96      0.96       816\n",
      "           1       0.96      0.98      0.97       909\n",
      "           2       0.92      0.90      0.91       846\n",
      "           3       0.91      0.88      0.90       937\n",
      "           4       0.92      0.93      0.92       839\n",
      "           5       0.85      0.87      0.86       702\n",
      "           6       0.92      0.96      0.94       785\n",
      "           7       0.94      0.92      0.93       893\n",
      "           8       0.90      0.88      0.89       835\n",
      "           9       0.90      0.90      0.90       838\n",
      "\n",
      "    accuracy                           0.92      8400\n",
      "   macro avg       0.92      0.92      0.92      8400\n",
      "weighted avg       0.92      0.92      0.92      8400\n",
      "\n",
      "Confusion Matrix:\n",
      "[[787   0   2   0   2  11   9   2   2   1]\n",
      " [  0 888   2   3   1   4   1   3   7   0]\n",
      " [  7   9 759  10  10   8  15   8  19   1]\n",
      " [  2   3  18 826   0  42   3   7  23  13]\n",
      " [  3   2   7   1 780   0  10   2   2  32]\n",
      " [  7   3   8  22  10 608  20   3  18   3]\n",
      " [  6   1   6   0   7   8 752   1   4   0]\n",
      " [  1   1  13   5  13   2   0 823   4  31]\n",
      " [  5  12   8  25   6  26   9   2 735   7]\n",
      " [  6   4   3  12  21   9   0  26   5 752]]\n"
     ]
    }
   ],
   "source": [
    "from sklearn.linear_model import LogisticRegression\n",
    "model = LogisticRegression(max_iter=1000)\n",
    "model.fit(X_train, y_train)\n",
    "y_pred = model.predict(X_test)\n",
    "from sklearn.metrics import accuracy_score, classification_report, confusion_matrix\n",
    "accuracy = accuracy_score(y_test, y_pred)\n",
    "print(f\"Accuracy: {accuracy*100:.2f}%\")\n",
    "print(\"Classification Report:\")\n",
    "print(classification_report(y_test, y_pred))\n",
    "print(\"Confusion Matrix:\")\n",
    "print(confusion_matrix(y_test, y_pred))\n"
   ]
  },
  {
   "cell_type": "code",
   "execution_count": 125,
   "id": "5708778e",
   "metadata": {},
   "outputs": [
    {
     "name": "stdout",
     "output_type": "stream",
     "text": [
      "       pixel0  pixel1  pixel2  pixel3  pixel4  pixel5  pixel6  pixel7  pixel8  \\\n",
      "13335       0       0       0       0       0       0       0       0       0   \n",
      "\n",
      "       pixel9  ...  pixel774  pixel775  pixel776  pixel777  pixel778  \\\n",
      "13335       0  ...         0         0         0         0         0   \n",
      "\n",
      "       pixel779  pixel780  pixel781  pixel782  pixel783  \n",
      "13335         0         0         0         0         0  \n",
      "\n",
      "[1 rows x 784 columns]\n"
     ]
    },
    {
     "name": "stderr",
     "output_type": "stream",
     "text": [
      "c:\\Users\\Asus\\AppData\\Local\\Programs\\Python\\Python311\\Lib\\site-packages\\sklearn\\base.py:493: UserWarning: X does not have valid feature names, but MinMaxScaler was fitted with feature names\n",
      "  warnings.warn(\n"
     ]
    }
   ],
   "source": [
    "# testing model\n",
    "testdata=pd.read_csv('test.csv')\n",
    "print(testdata.sample())\n",
    "X_test_final=testdata.values\n",
    "X_test_final = scaler.transform(X_test_final)\n",
    "X_test_final = pca.transform(X_test_final)\n",
    "y_test_final = model.predict(X_test_final)"
   ]
  },
  {
   "cell_type": "code",
   "execution_count": 126,
   "id": "6b90c951",
   "metadata": {},
   "outputs": [
    {
     "name": "stdout",
     "output_type": "stream",
     "text": [
      "Final Test Accuracy: 100.00%\n",
      "Confusion Matrix:\n",
      "[[2775    0    0    0    0    0    0    0    0    0]\n",
      " [   0 3275    0    0    0    0    0    0    0    0]\n",
      " [   0    0 2756    0    0    0    0    0    0    0]\n",
      " [   0    0    0 2743    0    0    0    0    0    0]\n",
      " [   0    0    0    0 2761    0    0    0    0    0]\n",
      " [   0    0    0    0    0 2499    0    0    0    0]\n",
      " [   0    0    0    0    0    0 2793    0    0    0]\n",
      " [   0    0    0    0    0    0    0 2917    0    0]\n",
      " [   0    0    0    0    0    0    0    0 2704    0]\n",
      " [   0    0    0    0    0    0    0    0    0 2777]]\n"
     ]
    }
   ],
   "source": [
    "accuracy_final = accuracy_score(y_test_final, y_test_final)\n",
    "print(f\"Final Test Accuracy: {accuracy_final*100:.2f}%\")\n",
    "print(\"Confusion Matrix:\")\n",
    "print(confusion_matrix(y_test_final, y_test_final))"
   ]
  },
  {
   "cell_type": "code",
   "execution_count": 151,
   "id": "35aaafce",
   "metadata": {},
   "outputs": [
    {
     "name": "stdout",
     "output_type": "stream",
     "text": [
      "Accuracy: 91.74%\n",
      "Classification Report:\n",
      "              precision    recall  f1-score   support\n",
      "\n",
      "           0       0.96      0.96      0.96       816\n",
      "           1       0.96      0.98      0.97       909\n",
      "           2       0.92      0.89      0.91       846\n",
      "           3       0.91      0.89      0.90       937\n",
      "           4       0.92      0.93      0.92       839\n",
      "           5       0.84      0.87      0.85       702\n",
      "           6       0.92      0.96      0.94       785\n",
      "           7       0.94      0.92      0.93       893\n",
      "           8       0.90      0.88      0.89       835\n",
      "           9       0.89      0.90      0.90       838\n",
      "\n",
      "    accuracy                           0.92      8400\n",
      "   macro avg       0.92      0.92      0.92      8400\n",
      "weighted avg       0.92      0.92      0.92      8400\n",
      "\n",
      "Confusion Matrix:\n",
      "[[785   0   2   0   2  14   8   2   2   1]\n",
      " [  0 888   2   3   1   4   1   3   7   0]\n",
      " [  6  10 757  12  10   8  15   8  19   1]\n",
      " [  2   3  16 830   0  39   3   8  23  13]\n",
      " [  2   2   8   1 777   0  10   2   2  35]\n",
      " [  8   3   9  23  10 608  19   3  16   3]\n",
      " [  6   1   7   0   7   8 752   1   3   0]\n",
      " [  1   1  14   5  13   4   0 822   4  29]\n",
      " [  4  12   8  25   5  27   9   2 736   7]\n",
      " [  6   4   3  12  22   9   0  26   5 751]]\n"
     ]
    }
   ],
   "source": [
    "from sklearn.model_selection import train_test_split\n",
    "from sklearn.preprocessing import MinMaxScaler\n",
    "from sklearn.decomposition import PCA\n",
    "from sklearn.linear_model import LogisticRegression\n",
    "from sklearn.metrics import accuracy_score, classification_report, confusion_matrix\n",
    "import joblib\n",
    "import pandas as pd\n",
    "df=pd.read_csv('train.csv')\n",
    "\n",
    "X=df.drop(['label'],axis=1)\n",
    "y=df['label']\n",
    "# 1. Split before scaling/PCA\n",
    "X_train, X_test, y_train, y_test = train_test_split(X, y, test_size=0.2, random_state=42)\n",
    "\n",
    "# 2. Scale\n",
    "scaler = MinMaxScaler()\n",
    "X_train_scaled = scaler.fit_transform(X_train)\n",
    "X_test_scaled = scaler.transform(X_test)\n",
    "\n",
    "# 3. PCA\n",
    "pca = PCA(n_components=150)\n",
    "X_train_pca = pca.fit_transform(X_train_scaled)\n",
    "X_test_pca = pca.transform(X_test_scaled)\n",
    "\n",
    "# 4. Train model\n",
    "model = LogisticRegression(max_iter=1000)\n",
    "model.fit(X_train_pca, y_train)\n",
    "\n",
    "# 5. Evaluate\n",
    "y_pred = model.predict(X_test_pca)\n",
    "accuracy = accuracy_score(y_test, y_pred)\n",
    "print(f\"Accuracy: {accuracy*100:.2f}%\")\n",
    "print(\"Classification Report:\")\n",
    "print(classification_report(y_test, y_pred))\n",
    "print(\"Confusion Matrix:\")\n",
    "print(confusion_matrix(y_test, y_pred))\n"
   ]
  },
  {
   "cell_type": "code",
   "execution_count": 152,
   "id": "539f0337",
   "metadata": {},
   "outputs": [
    {
     "name": "stdout",
     "output_type": "stream",
     "text": [
      "✅ Model, PCA, and Scaler saved successfully!\n"
     ]
    }
   ],
   "source": [
    "joblib.dump(scaler, \"scaler.pkl\")\n",
    "joblib.dump(pca, \"pca.pkl\")\n",
    "joblib.dump(model, \"digit_model.pkl\")\n",
    "\n",
    "print(\"✅ Model, PCA, and Scaler saved successfully!\")\n"
   ]
  },
  {
   "cell_type": "code",
   "execution_count": 150,
   "id": "fccf69cb",
   "metadata": {},
   "outputs": [
    {
     "name": "stdout",
     "output_type": "stream",
     "text": [
      "Predicted digit: 1\n"
     ]
    },
    {
     "name": "stderr",
     "output_type": "stream",
     "text": [
      "c:\\Users\\Asus\\AppData\\Local\\Programs\\Python\\Python311\\Lib\\site-packages\\sklearn\\base.py:493: UserWarning: X does not have valid feature names, but MinMaxScaler was fitted with feature names\n",
      "  warnings.warn(\n"
     ]
    },
    {
     "data": {
      "image/png": "[encoded data removed]",
      "text/plain": [
       "<Figure size 640x480 with 1 Axes>"
      ]
     },
     "metadata": {},
     "output_type": "display_data"
    }
   ],
   "source": [
    "import cv2\n",
    "import numpy as np\n",
    "import matplotlib.pyplot as plt\n",
    "\n",
    "# Load your image\n",
    "img = cv2.imread(\"1new.png\", cv2.IMREAD_GRAYSCALE)\n",
    "\n",
    "# 1️⃣ Invert image if needed (white digit on black background)\n",
    "if np.mean(img) > 127:  # means background is light\n",
    "    img = cv2.bitwise_not(img)\n",
    "\n",
    "# 2️⃣ Threshold to binary (remove gray background)\n",
    "_, img = cv2.threshold(img, 0, 255, cv2.THRESH_BINARY + cv2.THRESH_OTSU)\n",
    "\n",
    "# 3️⃣ Find bounding box around the digit (crop)\n",
    "coords = cv2.findNonZero(img)\n",
    "x, y, w, h = cv2.boundingRect(coords)\n",
    "img = img[y:y+h, x:x+w]\n",
    "\n",
    "# 4️⃣ Resize to 20x20 (keeping aspect ratio)\n",
    "img = cv2.resize(img, (20, 20), interpolation=cv2.INTER_AREA)\n",
    "\n",
    "# 5️⃣ Pad to 28x28 (MNIST style)\n",
    "img_padded = np.pad(img, ((4, 4), (4, 4)), mode='constant', constant_values=0)\n",
    "\n",
    "# 6️⃣ Flatten & scale\n",
    "img_flat = img_padded.flatten().astype('float32').reshape(1, -1)\n",
    "img_scaled = scaler.transform(img_flat)   # use SAME scaler from training\n",
    "\n",
    "# 7️⃣ PCA transform\n",
    "img_pca = pca.transform(img_scaled)\n",
    "\n",
    "# 8️⃣ Predict\n",
    "pred = model.predict(img_pca)\n",
    "print(\"Predicted digit:\", pred[0])\n",
    "\n",
    "# 9️⃣ Visualize final input to model\n",
    "plt.imshow(img_padded, cmap='gray')\n",
    "plt.title(f\"Final Processed Image — Predicted: {pred[0]}\")\n",
    "plt.axis('off')\n",
    "plt.show()\n"
   ]
  },
  {
   "cell_type": "code",
   "execution_count": null,
   "id": "d5c3112b",
   "metadata": {},
   "outputs": [],
   "source": []
  }
 ],
 "metadata": {
  "kernelspec": {
   "display_name": "Python 3",
   "language": "python",
   "name": "python3"
  },
  "language_info": {
   "codemirror_mode": {
    "name": "ipython",
    "version": 3
   },
   "file_extension": ".py",
   "mimetype": "text/x-python",
   "name": "python",
   "nbconvert_exporter": "python",
   "pygments_lexer": "ipython3",
   "version": "3.11.4"
  }
 },
 "nbformat": 4,
 "nbformat_minor": 5
}
